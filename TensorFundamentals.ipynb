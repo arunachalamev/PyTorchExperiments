{
  "nbformat": 4,
  "nbformat_minor": 0,
  "metadata": {
    "colab": {
      "provenance": [],
      "authorship_tag": "ABX9TyO1ZgyHGKqrBsQ/2Yy6AWRL",
      "include_colab_link": true
    },
    "kernelspec": {
      "name": "python3",
      "display_name": "Python 3"
    },
    "language_info": {
      "name": "python"
    }
  },
  "cells": [
    {
      "cell_type": "markdown",
      "metadata": {
        "id": "view-in-github",
        "colab_type": "text"
      },
      "source": [
        "<a href=\"https://colab.research.google.com/github/arunachalamev/PyTorchExperiments/blob/main/TensorFundamentals.ipynb\" target=\"_parent\"><img src=\"https://colab.research.google.com/assets/colab-badge.svg\" alt=\"Open In Colab\"/></a>"
      ]
    },
    {
      "cell_type": "code",
      "execution_count": 1,
      "metadata": {
        "id": "uIVmvbuVoAUq"
      },
      "outputs": [],
      "source": [
        "import torch"
      ]
    },
    {
      "cell_type": "code",
      "source": [
        "#scalar\n",
        "scalar = torch.tensor(6)\n",
        "print (type(scalar), scalar)\n",
        "print (scalar.ndim)\n",
        "print (scalar.shape)\n",
        "scalar.size,scalar.size()"
      ],
      "metadata": {
        "colab": {
          "base_uri": "https://localhost:8080/"
        },
        "id": "YuDMgbWHHB2z",
        "outputId": "7d59db57-9ba7-47d7-da9a-1fb4dc4d1d8f"
      },
      "execution_count": 13,
      "outputs": [
        {
          "output_type": "stream",
          "name": "stdout",
          "text": [
            "<class 'torch.Tensor'> tensor(6)\n",
            "0\n",
            "torch.Size([])\n"
          ]
        },
        {
          "output_type": "execute_result",
          "data": {
            "text/plain": [
              "(<function Tensor.size>, torch.Size([]))"
            ]
          },
          "metadata": {},
          "execution_count": 13
        }
      ]
    },
    {
      "cell_type": "code",
      "source": [
        "# Vector\n",
        "vector = torch.tensor([1,2])\n",
        "print (vector.shape)\n",
        "vector = torch.tensor([[[1],[2]]])\n",
        "print (vector.shape)\n",
        "tensor = torch.tensor([[[7,4],[0,1]],[[1,9],[2,3]],[[5,6],[8,8]]])\n",
        "print (tensor.shape)\n",
        "tensor\n"
      ],
      "metadata": {
        "colab": {
          "base_uri": "https://localhost:8080/"
        },
        "id": "DVxLx7pUH2NC",
        "outputId": "7f6057a5-9712-4b37-9603-ae0397148514"
      },
      "execution_count": 25,
      "outputs": [
        {
          "output_type": "stream",
          "name": "stdout",
          "text": [
            "torch.Size([2])\n",
            "torch.Size([1, 2, 1])\n",
            "torch.Size([3, 2, 2])\n"
          ]
        },
        {
          "output_type": "execute_result",
          "data": {
            "text/plain": [
              "tensor([[[7, 4],\n",
              "         [0, 1]],\n",
              "\n",
              "        [[1, 9],\n",
              "         [2, 3]],\n",
              "\n",
              "        [[5, 6],\n",
              "         [8, 8]]])"
            ]
          },
          "metadata": {},
          "execution_count": 25
        }
      ]
    },
    {
      "cell_type": "code",
      "source": [
        "#Random Tensor\n",
        "random_tensor = torch.rand(size=(3,4))\n",
        "random_tensor,random_tensor.dtype, random_tensor.shape, random_tensor.ndim\n",
        "# random_tensor.shape, random_tensor.size() # both are same"
      ],
      "metadata": {
        "colab": {
          "base_uri": "https://localhost:8080/"
        },
        "id": "5IdRXsgHJGko",
        "outputId": "3cf3fbc2-c993-469a-dbdd-b7b1478df9cd"
      },
      "execution_count": 32,
      "outputs": [
        {
          "output_type": "execute_result",
          "data": {
            "text/plain": [
              "(tensor([[0.8964, 0.5787, 0.5399, 0.6401],\n",
              "         [0.9514, 0.1996, 0.8382, 0.7077],\n",
              "         [0.2058, 0.1943, 0.4407, 0.3901]]),\n",
              " torch.float32,\n",
              " torch.Size([3, 4]),\n",
              " 2)"
            ]
          },
          "metadata": {},
          "execution_count": 32
        }
      ]
    },
    {
      "cell_type": "code",
      "source": [
        "# Zeros, # One\n",
        "zeros = torch.zeros(size=(3,2,2)) # Tuple or list both accepeted\n",
        "zeros\n",
        "ones = torch.ones((3,4))\n",
        "ones"
      ],
      "metadata": {
        "colab": {
          "base_uri": "https://localhost:8080/"
        },
        "id": "W2JHU0_UJswy",
        "outputId": "7c0af896-da54-4ff2-fb22-b598ec5f90ce"
      },
      "execution_count": 38,
      "outputs": [
        {
          "output_type": "execute_result",
          "data": {
            "text/plain": [
              "tensor([[1., 1., 1., 1.],\n",
              "        [1., 1., 1., 1.],\n",
              "        [1., 1., 1., 1.]])"
            ]
          },
          "metadata": {},
          "execution_count": 38
        }
      ]
    },
    {
      "cell_type": "code",
      "source": [
        "# range\n",
        "zero_to_ten = torch.arange(start = 0, end = 10, step= 1)\n",
        "zero_to_ten"
      ],
      "metadata": {
        "colab": {
          "base_uri": "https://localhost:8080/"
        },
        "id": "gKOVtc8LKU6x",
        "outputId": "6aca216a-911c-43a9-dc9f-59077954629e"
      },
      "execution_count": 40,
      "outputs": [
        {
          "output_type": "execute_result",
          "data": {
            "text/plain": [
              "tensor([0, 1, 2, 3, 4, 5, 6, 7, 8, 9])"
            ]
          },
          "metadata": {},
          "execution_count": 40
        }
      ]
    },
    {
      "cell_type": "code",
      "source": [
        "# parameters\n",
        "temp = torch.tensor([3., 6., 9.],\n",
        "                    dtype = None,\n",
        "                    device= None,\n",
        "                    requires_grad=True)\n",
        "temp"
      ],
      "metadata": {
        "colab": {
          "base_uri": "https://localhost:8080/"
        },
        "id": "rYatv7SXKzSg",
        "outputId": "a9b1428e-00bd-4d4c-9909-ea56c8c1ba1b"
      },
      "execution_count": 43,
      "outputs": [
        {
          "output_type": "execute_result",
          "data": {
            "text/plain": [
              "tensor([3., 6., 9.], requires_grad=True)"
            ]
          },
          "metadata": {},
          "execution_count": 43
        }
      ]
    },
    {
      "cell_type": "code",
      "source": [
        "x = torch.tensor([1,2,3])\n",
        "x_stacked = torch.stack([x,x,x,x],dim=1)\n",
        "x_stacked"
      ],
      "metadata": {
        "colab": {
          "base_uri": "https://localhost:8080/"
        },
        "id": "EvTlIFc6MD_D",
        "outputId": "fe68bf0d-e802-4856-b4ed-9aef91e4c9a9"
      },
      "execution_count": 47,
      "outputs": [
        {
          "output_type": "execute_result",
          "data": {
            "text/plain": [
              "tensor([[1, 1, 1, 1],\n",
              "        [2, 2, 2, 2],\n",
              "        [3, 3, 3, 3]])"
            ]
          },
          "metadata": {},
          "execution_count": 47
        }
      ]
    },
    {
      "cell_type": "code",
      "source": [
        "x = torch.tensor([[[1],[1]],[[2],[2]],[[3],[3]]])\n",
        "x\n",
        "x.squeeze().shape\n",
        "y = torch.rand(size=(3,2,1))\n",
        "print(y)\n",
        "y.squeeze()"
      ],
      "metadata": {
        "colab": {
          "base_uri": "https://localhost:8080/"
        },
        "id": "qirVz_nDMv6M",
        "outputId": "0d3cd3e6-377f-40d4-e0b1-7d97bb243332"
      },
      "execution_count": 63,
      "outputs": [
        {
          "output_type": "stream",
          "name": "stdout",
          "text": [
            "tensor([[[0.8090],\n",
            "         [0.8995]],\n",
            "\n",
            "        [[0.0149],\n",
            "         [0.3460]],\n",
            "\n",
            "        [[0.7858],\n",
            "         [0.7371]]])\n"
          ]
        },
        {
          "output_type": "execute_result",
          "data": {
            "text/plain": [
              "tensor([[0.8090, 0.8995],\n",
              "        [0.0149, 0.3460],\n",
              "        [0.7858, 0.7371]])"
            ]
          },
          "metadata": {},
          "execution_count": 63
        }
      ]
    },
    {
      "cell_type": "code",
      "source": [
        "# print (torch.__version__)\n",
        "a = torch.tensor(3) \n",
        "b = torch.tensor([3.])\n",
        "c = torch.tensor([1,2,3])\n",
        "d = torch.tensor([[1,2,3],[3,4,5]])\n",
        "e = torch.rand(size=(10,10,3,5,4))\n",
        "g = torch.ones(size=(2,1,4), dtype=torch.int8, device = None, requires_grad=False)\n",
        "\n",
        "a\n",
        "print (a.ndim, a.shape)\n",
        "print (b.ndim, b.shape)\n",
        "print (c.ndim,c.shape)\n",
        "print (d.ndim,d.shape)\n",
        "print (e.ndim,e.shape)\n",
        "print (g.ndim, g.shape)\n",
        "g+10\n",
        "\n",
        "\n",
        "# Common errors - Datatype, shape and device "
      ],
      "metadata": {
        "colab": {
          "base_uri": "https://localhost:8080/"
        },
        "id": "r0iKRjEuoJWX",
        "outputId": "fd203e0e-9976-4567-f21c-fa4881a4a43b"
      },
      "execution_count": null,
      "outputs": [
        {
          "output_type": "stream",
          "name": "stdout",
          "text": [
            "0 torch.Size([])\n",
            "1 torch.Size([1])\n",
            "1 torch.Size([3])\n",
            "2 torch.Size([2, 3])\n",
            "5 torch.Size([10, 10, 3, 5, 4])\n",
            "3 torch.Size([2, 1, 4])\n"
          ]
        },
        {
          "output_type": "execute_result",
          "data": {
            "text/plain": [
              "tensor([[[11, 11, 11, 11]],\n",
              "\n",
              "        [[11, 11, 11, 11]]], dtype=torch.int8)"
            ]
          },
          "metadata": {},
          "execution_count": 32
        }
      ]
    },
    {
      "cell_type": "code",
      "source": [
        "# Matris Multiplication\n",
        "# Element wise and Matrix multiplication ( dot product)\n",
        "\n",
        "temp = torch.tensor([1,2,3])\n",
        "# Elementwise multiplication\n",
        "temp * temp\n",
        "print (temp.mul(temp))\n",
        "\n",
        "# Matrix Multiplication\n",
        "print (temp.matmul(temp)) # dot product\n",
        "print (torch.matmul(temp,temp))"
      ],
      "metadata": {
        "colab": {
          "base_uri": "https://localhost:8080/"
        },
        "id": "jE2ZoI1TrmT0",
        "outputId": "4e09f200-59bc-43c7-c61a-d350236db058"
      },
      "execution_count": null,
      "outputs": [
        {
          "output_type": "stream",
          "name": "stdout",
          "text": [
            "tensor([1, 4, 9])\n",
            "tensor(14)\n",
            "tensor(14)\n"
          ]
        }
      ]
    },
    {
      "cell_type": "code",
      "source": [
        "%%time\n",
        "value = 0\n",
        "for i in range(len(temp)):\n",
        "  value += temp[i]*temp[i]\n",
        "print (value)"
      ],
      "metadata": {
        "colab": {
          "base_uri": "https://localhost:8080/"
        },
        "id": "z_6KmZEjs7hy",
        "outputId": "6cdc55ee-6214-441a-8302-32a6e5495205"
      },
      "execution_count": null,
      "outputs": [
        {
          "output_type": "stream",
          "name": "stdout",
          "text": [
            "tensor(14)\n",
            "CPU times: user 2.85 ms, sys: 51 µs, total: 2.9 ms\n",
            "Wall time: 3.03 ms\n"
          ]
        }
      ]
    },
    {
      "cell_type": "code",
      "source": [
        "%%time\n",
        "# print (temp.matmul(temp))\n",
        "torch.matmul(temp,temp)\n",
        "# print (temp)"
      ],
      "metadata": {
        "colab": {
          "base_uri": "https://localhost:8080/"
        },
        "id": "kE9U06eft6dK",
        "outputId": "475e9791-5ef4-4187-a648-69cd52a1c290"
      },
      "execution_count": null,
      "outputs": [
        {
          "output_type": "stream",
          "name": "stdout",
          "text": [
            "CPU times: user 281 µs, sys: 887 µs, total: 1.17 ms\n",
            "Wall time: 1.11 ms\n"
          ]
        },
        {
          "output_type": "execute_result",
          "data": {
            "text/plain": [
              "tensor(14)"
            ]
          },
          "metadata": {},
          "execution_count": 52
        }
      ]
    },
    {
      "cell_type": "code",
      "source": [
        "temp @ temp # similar to matmul. Prefer matmul"
      ],
      "metadata": {
        "colab": {
          "base_uri": "https://localhost:8080/"
        },
        "id": "78V0j7s_t-Zl",
        "outputId": "551036ff-d53a-4df0-ba01-13ac43ef08a9"
      },
      "execution_count": null,
      "outputs": [
        {
          "output_type": "execute_result",
          "data": {
            "text/plain": [
              "tensor(14)"
            ]
          },
          "metadata": {},
          "execution_count": 53
        }
      ]
    },
    {
      "cell_type": "code",
      "source": [
        "torch.matmul(torch.rand(3,2),torch.rand(2,3))\n",
        "\n",
        "#Matrix multiplication rules - Inner dimensions match , result is the outer dimension"
      ],
      "metadata": {
        "colab": {
          "base_uri": "https://localhost:8080/"
        },
        "id": "qgi8ZGsKu1ft",
        "outputId": "efa6744e-f634-46de-eca6-f41918f82ed3"
      },
      "execution_count": null,
      "outputs": [
        {
          "output_type": "execute_result",
          "data": {
            "text/plain": [
              "tensor([[0.6199, 0.6723, 0.6093],\n",
              "        [0.4771, 0.9395, 0.7847],\n",
              "        [0.3637, 0.7140, 0.5965]])"
            ]
          },
          "metadata": {},
          "execution_count": 54
        }
      ]
    },
    {
      "cell_type": "code",
      "source": [
        "Tensor_A = torch.rand(3,2)\n",
        "Tensor_B = torch.rand(3,2)"
      ],
      "metadata": {
        "id": "FknucWWfvtoM"
      },
      "execution_count": null,
      "outputs": []
    },
    {
      "cell_type": "code",
      "source": [
        "torch.matmul(Tensor_A,Tensor_B)"
      ],
      "metadata": {
        "colab": {
          "base_uri": "https://localhost:8080/",
          "height": 169
        },
        "id": "nueKsf2LwEie",
        "outputId": "4548b350-4f31-45d7-828f-96c2e1a17fb3"
      },
      "execution_count": null,
      "outputs": [
        {
          "output_type": "error",
          "ename": "RuntimeError",
          "evalue": "ignored",
          "traceback": [
            "\u001b[0;31m---------------------------------------------------------------------------\u001b[0m",
            "\u001b[0;31mRuntimeError\u001b[0m                              Traceback (most recent call last)",
            "\u001b[0;32m<ipython-input-58-17da74fa97c6>\u001b[0m in \u001b[0;36m<module>\u001b[0;34m\u001b[0m\n\u001b[0;32m----> 1\u001b[0;31m \u001b[0mtorch\u001b[0m\u001b[0;34m.\u001b[0m\u001b[0mmatmul\u001b[0m\u001b[0;34m(\u001b[0m\u001b[0mTensor_A\u001b[0m\u001b[0;34m,\u001b[0m\u001b[0mTensor_B\u001b[0m\u001b[0;34m)\u001b[0m\u001b[0;34m\u001b[0m\u001b[0;34m\u001b[0m\u001b[0m\n\u001b[0m",
            "\u001b[0;31mRuntimeError\u001b[0m: mat1 and mat2 shapes cannot be multiplied (3x2 and 3x2)"
          ]
        }
      ]
    },
    {
      "cell_type": "code",
      "source": [
        "torch.matmul(Tensor_A,Tensor_B.T) # transpose to match the dimension using reshaping"
      ],
      "metadata": {
        "colab": {
          "base_uri": "https://localhost:8080/"
        },
        "id": "QmS7nuofxRCk",
        "outputId": "fc5824d4-25b2-4b6b-c2bd-b11ea24483cc"
      },
      "execution_count": null,
      "outputs": [
        {
          "output_type": "execute_result",
          "data": {
            "text/plain": [
              "tensor([[0.2957, 0.5822, 1.0903],\n",
              "        [0.1257, 0.2236, 0.4693],\n",
              "        [0.2189, 0.3924, 0.8165]])"
            ]
          },
          "metadata": {},
          "execution_count": 59
        }
      ]
    },
    {
      "cell_type": "code",
      "source": [],
      "metadata": {
        "id": "e9F3Fl7OxXP-"
      },
      "execution_count": null,
      "outputs": []
    }
  ]
}