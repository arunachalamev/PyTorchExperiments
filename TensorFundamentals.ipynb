{
  "nbformat": 4,
  "nbformat_minor": 0,
  "metadata": {
    "colab": {
      "provenance": [],
      "authorship_tag": "ABX9TyM5y+z2vYAaXCXAOfl1+vfy",
      "include_colab_link": true
    },
    "kernelspec": {
      "name": "python3",
      "display_name": "Python 3"
    },
    "language_info": {
      "name": "python"
    }
  },
  "cells": [
    {
      "cell_type": "markdown",
      "metadata": {
        "id": "view-in-github",
        "colab_type": "text"
      },
      "source": [
        "<a href=\"https://colab.research.google.com/github/arunachalamev/PyTorchExperiments/blob/main/TensorFundamentals.ipynb\" target=\"_parent\"><img src=\"https://colab.research.google.com/assets/colab-badge.svg\" alt=\"Open In Colab\"/></a>"
      ]
    },
    {
      "cell_type": "code",
      "execution_count": 1,
      "metadata": {
        "id": "uIVmvbuVoAUq"
      },
      "outputs": [],
      "source": [
        "import torch"
      ]
    },
    {
      "cell_type": "code",
      "source": [
        "#scalar\n",
        "scalar = torch.tensor(6)\n",
        "print (type(scalar), scalar)\n",
        "print (scalar.ndim)\n",
        "print (scalar.shape)\n",
        "scalar.size,scalar.size()"
      ],
      "metadata": {
        "colab": {
          "base_uri": "https://localhost:8080/"
        },
        "id": "YuDMgbWHHB2z",
        "outputId": "7d59db57-9ba7-47d7-da9a-1fb4dc4d1d8f"
      },
      "execution_count": 13,
      "outputs": [
        {
          "output_type": "stream",
          "name": "stdout",
          "text": [
            "<class 'torch.Tensor'> tensor(6)\n",
            "0\n",
            "torch.Size([])\n"
          ]
        },
        {
          "output_type": "execute_result",
          "data": {
            "text/plain": [
              "(<function Tensor.size>, torch.Size([]))"
            ]
          },
          "metadata": {},
          "execution_count": 13
        }
      ]
    },
    {
      "cell_type": "code",
      "source": [
        "# Vector\n",
        "vector = torch.tensor([1,2])\n",
        "print (vector.shape)\n",
        "vector = torch.tensor([[[1],[2]]])\n",
        "print (vector.shape)\n",
        "tensor = torch.tensor([[[7,4],[0,1]],[[1,9],[2,3]],[[5,6],[8,8]]])\n",
        "print (tensor.shape)\n",
        "tensor\n"
      ],
      "metadata": {
        "colab": {
          "base_uri": "https://localhost:8080/"
        },
        "id": "DVxLx7pUH2NC",
        "outputId": "7f6057a5-9712-4b37-9603-ae0397148514"
      },
      "execution_count": 25,
      "outputs": [
        {
          "output_type": "stream",
          "name": "stdout",
          "text": [
            "torch.Size([2])\n",
            "torch.Size([1, 2, 1])\n",
            "torch.Size([3, 2, 2])\n"
          ]
        },
        {
          "output_type": "execute_result",
          "data": {
            "text/plain": [
              "tensor([[[7, 4],\n",
              "         [0, 1]],\n",
              "\n",
              "        [[1, 9],\n",
              "         [2, 3]],\n",
              "\n",
              "        [[5, 6],\n",
              "         [8, 8]]])"
            ]
          },
          "metadata": {},
          "execution_count": 25
        }
      ]
    },
    {
      "cell_type": "code",
      "source": [
        "#Random Tensor\n",
        "random_tensor = torch.rand(size=(3,4))\n",
        "random_tensor,random_tensor.dtype, random_tensor.shape, random_tensor.ndim\n",
        "# random_tensor.shape, random_tensor.size() # both are same"
      ],
      "metadata": {
        "colab": {
          "base_uri": "https://localhost:8080/"
        },
        "id": "5IdRXsgHJGko",
        "outputId": "3cf3fbc2-c993-469a-dbdd-b7b1478df9cd"
      },
      "execution_count": 32,
      "outputs": [
        {
          "output_type": "execute_result",
          "data": {
            "text/plain": [
              "(tensor([[0.8964, 0.5787, 0.5399, 0.6401],\n",
              "         [0.9514, 0.1996, 0.8382, 0.7077],\n",
              "         [0.2058, 0.1943, 0.4407, 0.3901]]),\n",
              " torch.float32,\n",
              " torch.Size([3, 4]),\n",
              " 2)"
            ]
          },
          "metadata": {},
          "execution_count": 32
        }
      ]
    },
    {
      "cell_type": "code",
      "source": [
        "# Zeros, # One\n",
        "zeros = torch.zeros(size=(3,2,2)) # Tuple or list both accepeted\n",
        "zeros\n",
        "ones = torch.ones((3,4))\n",
        "ones"
      ],
      "metadata": {
        "colab": {
          "base_uri": "https://localhost:8080/"
        },
        "id": "W2JHU0_UJswy",
        "outputId": "7c0af896-da54-4ff2-fb22-b598ec5f90ce"
      },
      "execution_count": 38,
      "outputs": [
        {
          "output_type": "execute_result",
          "data": {
            "text/plain": [
              "tensor([[1., 1., 1., 1.],\n",
              "        [1., 1., 1., 1.],\n",
              "        [1., 1., 1., 1.]])"
            ]
          },
          "metadata": {},
          "execution_count": 38
        }
      ]
    },
    {
      "cell_type": "code",
      "source": [
        "# range\n",
        "zero_to_ten = torch.arange(start = 0, end = 10, step= 1)\n",
        "zero_to_ten"
      ],
      "metadata": {
        "colab": {
          "base_uri": "https://localhost:8080/"
        },
        "id": "gKOVtc8LKU6x",
        "outputId": "6aca216a-911c-43a9-dc9f-59077954629e"
      },
      "execution_count": 40,
      "outputs": [
        {
          "output_type": "execute_result",
          "data": {
            "text/plain": [
              "tensor([0, 1, 2, 3, 4, 5, 6, 7, 8, 9])"
            ]
          },
          "metadata": {},
          "execution_count": 40
        }
      ]
    },
    {
      "cell_type": "code",
      "source": [
        "# parameters\n",
        "temp = torch.tensor([3., 6., 9.],\n",
        "                    dtype = None,\n",
        "                    device= None,\n",
        "                    requires_grad=True)\n",
        "temp"
      ],
      "metadata": {
        "colab": {
          "base_uri": "https://localhost:8080/"
        },
        "id": "rYatv7SXKzSg",
        "outputId": "a9b1428e-00bd-4d4c-9909-ea56c8c1ba1b"
      },
      "execution_count": 43,
      "outputs": [
        {
          "output_type": "execute_result",
          "data": {
            "text/plain": [
              "tensor([3., 6., 9.], requires_grad=True)"
            ]
          },
          "metadata": {},
          "execution_count": 43
        }
      ]
    },
    {
      "cell_type": "code",
      "source": [
        "x = torch.tensor([1,2,3])\n",
        "x_stacked = torch.stack([x,x,x,x],dim=1)\n",
        "x_stacked"
      ],
      "metadata": {
        "colab": {
          "base_uri": "https://localhost:8080/"
        },
        "id": "EvTlIFc6MD_D",
        "outputId": "fe68bf0d-e802-4856-b4ed-9aef91e4c9a9"
      },
      "execution_count": 47,
      "outputs": [
        {
          "output_type": "execute_result",
          "data": {
            "text/plain": [
              "tensor([[1, 1, 1, 1],\n",
              "        [2, 2, 2, 2],\n",
              "        [3, 3, 3, 3]])"
            ]
          },
          "metadata": {},
          "execution_count": 47
        }
      ]
    },
    {
      "cell_type": "code",
      "source": [
        "x = torch.tensor([[[1],[1]],[[2],[2]],[[3],[3]]])\n",
        "x\n",
        "x.squeeze().shape\n",
        "y = torch.rand(size=(3,2,1))\n",
        "print(y)\n",
        "y.squeeze()"
      ],
      "metadata": {
        "colab": {
          "base_uri": "https://localhost:8080/"
        },
        "id": "qirVz_nDMv6M",
        "outputId": "0d3cd3e6-377f-40d4-e0b1-7d97bb243332"
      },
      "execution_count": 63,
      "outputs": [
        {
          "output_type": "stream",
          "name": "stdout",
          "text": [
            "tensor([[[0.8090],\n",
            "         [0.8995]],\n",
            "\n",
            "        [[0.0149],\n",
            "         [0.3460]],\n",
            "\n",
            "        [[0.7858],\n",
            "         [0.7371]]])\n"
          ]
        },
        {
          "output_type": "execute_result",
          "data": {
            "text/plain": [
              "tensor([[0.8090, 0.8995],\n",
              "        [0.0149, 0.3460],\n",
              "        [0.7858, 0.7371]])"
            ]
          },
          "metadata": {},
          "execution_count": 63
        }
      ]
    },
    {
      "cell_type": "code",
      "source": [
        "# Exercise: 2\n",
        "random_tensor1 = torch.rand((7,7))\n",
        "print (random_tensor1)\n",
        "\n",
        "#3\n",
        "random_tensor2 = torch.rand((1,7))\n",
        "print (random_tensor2)\n",
        "\n",
        "print (random_tensor1.matmul(random_tensor2.T))\n"
      ],
      "metadata": {
        "colab": {
          "base_uri": "https://localhost:8080/"
        },
        "id": "6TPROWW4ULeM",
        "outputId": "8a1ec1be-6bb8-4725-b167-4c2254fe7eca"
      },
      "execution_count": 89,
      "outputs": [
        {
          "output_type": "stream",
          "name": "stdout",
          "text": [
            "tensor([[0.0667, 0.7477, 0.1439, 0.3581, 0.3322, 0.4260, 0.5055],\n",
            "        [0.9124, 0.5624, 0.9478, 0.8059, 0.1839, 0.7243, 0.1466],\n",
            "        [0.2881, 0.6471, 0.6651, 0.8751, 0.3390, 0.5008, 0.7574],\n",
            "        [0.0165, 0.8615, 0.0865, 0.5069, 0.4150, 0.2367, 0.5661],\n",
            "        [0.9135, 0.3538, 0.2032, 0.3151, 0.0044, 0.7257, 0.2599],\n",
            "        [0.1663, 0.2119, 0.7875, 0.7648, 0.8838, 0.6814, 0.3330],\n",
            "        [0.3603, 0.6477, 0.9110, 0.6359, 0.2634, 0.2650, 0.0273]])\n",
            "tensor([[0.6080, 0.2194, 0.0542, 0.9384, 0.1753, 0.4431, 0.6432]])\n",
            "tensor([[1.1206],\n",
            "        [1.9332],\n",
            "        [1.9430],\n",
            "        [1.2211],\n",
            "        [1.4292],\n",
            "        [1.5791],\n",
            "        [1.1885]])\n"
          ]
        }
      ]
    },
    {
      "cell_type": "code",
      "source": [
        "#4\n",
        "SEED= 0\n",
        "torch.manual_seed(SEED)\n",
        "random_tensor1 = torch.rand((7,7))\n",
        "print (random_tensor1)\n",
        "random_tensor2 = torch.rand((1,7))\n",
        "print (random_tensor2)\n",
        "print (random_tensor1.matmul(random_tensor2.T))"
      ],
      "metadata": {
        "colab": {
          "base_uri": "https://localhost:8080/"
        },
        "id": "jiA0mI_hVav4",
        "outputId": "faef9771-b6c8-408f-83ca-13e8e9cd0bf7"
      },
      "execution_count": 85,
      "outputs": [
        {
          "output_type": "stream",
          "name": "stdout",
          "text": [
            "tensor([[0.4963, 0.7682, 0.0885, 0.1320, 0.3074, 0.6341, 0.4901],\n",
            "        [0.8964, 0.4556, 0.6323, 0.3489, 0.4017, 0.0223, 0.1689],\n",
            "        [0.2939, 0.5185, 0.6977, 0.8000, 0.1610, 0.2823, 0.6816],\n",
            "        [0.9152, 0.3971, 0.8742, 0.4194, 0.5529, 0.9527, 0.0362],\n",
            "        [0.1852, 0.3734, 0.3051, 0.9320, 0.1759, 0.2698, 0.1507],\n",
            "        [0.0317, 0.2081, 0.9298, 0.7231, 0.7423, 0.5263, 0.2437],\n",
            "        [0.5846, 0.0332, 0.1387, 0.2422, 0.8155, 0.7932, 0.2783]])\n",
            "tensor([[0.4820, 0.8198, 0.9971, 0.6984, 0.5675, 0.8352, 0.2056]])\n",
            "tensor([[1.8542],\n",
            "        [1.9611],\n",
            "        [2.2884],\n",
            "        [3.0481],\n",
            "        [1.7067],\n",
            "        [2.5290],\n",
            "        [1.7989]])\n"
          ]
        }
      ]
    },
    {
      "cell_type": "code",
      "source": [
        "#6\n",
        "torch.cuda.manual_seed(1234)\n"
      ],
      "metadata": {
        "id": "yPA7-6cBV2Ev"
      },
      "execution_count": 90,
      "outputs": []
    },
    {
      "cell_type": "code",
      "source": [
        "torch.manual_seed(1234)\n",
        "m1 = torch.rand(2,3)\n",
        "m2 = torch.rand((2,3))\n",
        "ans = m1.matmul(m2.T)\n",
        "print (ans)\n",
        "\n",
        "print(ans.max(),ans.min())\n",
        "print (ans.argmax(),ans.argmin())\n"
      ],
      "metadata": {
        "colab": {
          "base_uri": "https://localhost:8080/"
        },
        "id": "H0aRKKPQWEwG",
        "outputId": "7867bfdf-7252-451f-ee63-434256ee8355"
      },
      "execution_count": 103,
      "outputs": [
        {
          "output_type": "stream",
          "name": "stdout",
          "text": [
            "tensor([[0.3647, 0.4709],\n",
            "        [0.5184, 0.5617]])\n",
            "tensor(0.5617) tensor(0.3647)\n",
            "tensor(3) tensor(0)\n"
          ]
        }
      ]
    },
    {
      "cell_type": "code",
      "source": [
        "temp1 = torch.rand(1,1,1,10)\n",
        "print (temp1)\n",
        "print (temp1.squeeze())"
      ],
      "metadata": {
        "colab": {
          "base_uri": "https://localhost:8080/"
        },
        "id": "mP0hLgSCWxFl",
        "outputId": "d9e42394-78d0-40d4-c456-233c6336f5cc"
      },
      "execution_count": 106,
      "outputs": [
        {
          "output_type": "stream",
          "name": "stdout",
          "text": [
            "tensor([[[[0.7893, 0.3216, 0.5247, 0.6688, 0.8436, 0.4265, 0.9561, 0.0770,\n",
            "           0.4108, 0.0014]]]])\n",
            "tensor([0.7893, 0.3216, 0.5247, 0.6688, 0.8436, 0.4265, 0.9561, 0.0770, 0.4108,\n",
            "        0.0014])\n"
          ]
        }
      ]
    },
    {
      "cell_type": "code",
      "source": [
        "# print (torch.__version__)\n",
        "a = torch.tensor(3) \n",
        "b = torch.tensor([3.])\n",
        "c = torch.tensor([1,2,3])\n",
        "d = torch.tensor([[1,2,3],[3,4,5]])\n",
        "e = torch.rand(size=(10,10,3,5,4))\n",
        "g = torch.ones(size=(2,1,4), dtype=torch.int8, device = None, requires_grad=False)\n",
        "\n",
        "a\n",
        "print (a.ndim, a.shape)\n",
        "print (b.ndim, b.shape)\n",
        "print (c.ndim,c.shape)\n",
        "print (d.ndim,d.shape)\n",
        "print (e.ndim,e.shape)\n",
        "print (g.ndim, g.shape)\n",
        "g+10\n",
        "\n",
        "\n",
        "# Common errors - Datatype, shape and device "
      ],
      "metadata": {
        "colab": {
          "base_uri": "https://localhost:8080/"
        },
        "id": "r0iKRjEuoJWX",
        "outputId": "051687d6-c21d-4879-da8d-7c14bfc26e4b"
      },
      "execution_count": 97,
      "outputs": [
        {
          "output_type": "stream",
          "name": "stdout",
          "text": [
            "0 torch.Size([])\n",
            "1 torch.Size([1])\n",
            "1 torch.Size([3])\n",
            "2 torch.Size([2, 3])\n",
            "5 torch.Size([10, 10, 3, 5, 4])\n",
            "3 torch.Size([2, 1, 4])\n"
          ]
        },
        {
          "output_type": "execute_result",
          "data": {
            "text/plain": [
              "tensor([[[11, 11, 11, 11]],\n",
              "\n",
              "        [[11, 11, 11, 11]]], dtype=torch.int8)"
            ]
          },
          "metadata": {},
          "execution_count": 97
        }
      ]
    },
    {
      "cell_type": "code",
      "source": [
        "# Matris Multiplication\n",
        "# Element wise and Matrix multiplication ( dot product)\n",
        "\n",
        "temp = torch.tensor([1,2,3])\n",
        "# Elementwise multiplication\n",
        "temp * temp\n",
        "print (temp.mul(temp))\n",
        "\n",
        "# Matrix Multiplication\n",
        "print (temp.matmul(temp)) # dot product\n",
        "print (torch.matmul(temp,temp))"
      ],
      "metadata": {
        "colab": {
          "base_uri": "https://localhost:8080/"
        },
        "id": "jE2ZoI1TrmT0",
        "outputId": "4e09f200-59bc-43c7-c61a-d350236db058"
      },
      "execution_count": null,
      "outputs": [
        {
          "output_type": "stream",
          "name": "stdout",
          "text": [
            "tensor([1, 4, 9])\n",
            "tensor(14)\n",
            "tensor(14)\n"
          ]
        }
      ]
    },
    {
      "cell_type": "code",
      "source": [
        "%%time\n",
        "value = 0\n",
        "for i in range(len(temp)):\n",
        "  value += temp[i]*temp[i]\n",
        "print (value)"
      ],
      "metadata": {
        "colab": {
          "base_uri": "https://localhost:8080/"
        },
        "id": "z_6KmZEjs7hy",
        "outputId": "6cdc55ee-6214-441a-8302-32a6e5495205"
      },
      "execution_count": null,
      "outputs": [
        {
          "output_type": "stream",
          "name": "stdout",
          "text": [
            "tensor(14)\n",
            "CPU times: user 2.85 ms, sys: 51 µs, total: 2.9 ms\n",
            "Wall time: 3.03 ms\n"
          ]
        }
      ]
    },
    {
      "cell_type": "code",
      "source": [
        "%%time\n",
        "# print (temp.matmul(temp))\n",
        "torch.matmul(temp,temp)\n",
        "# print (temp)"
      ],
      "metadata": {
        "colab": {
          "base_uri": "https://localhost:8080/"
        },
        "id": "kE9U06eft6dK",
        "outputId": "475e9791-5ef4-4187-a648-69cd52a1c290"
      },
      "execution_count": null,
      "outputs": [
        {
          "output_type": "stream",
          "name": "stdout",
          "text": [
            "CPU times: user 281 µs, sys: 887 µs, total: 1.17 ms\n",
            "Wall time: 1.11 ms\n"
          ]
        },
        {
          "output_type": "execute_result",
          "data": {
            "text/plain": [
              "tensor(14)"
            ]
          },
          "metadata": {},
          "execution_count": 52
        }
      ]
    },
    {
      "cell_type": "code",
      "source": [
        "temp @ temp # similar to matmul. Prefer matmul"
      ],
      "metadata": {
        "colab": {
          "base_uri": "https://localhost:8080/"
        },
        "id": "78V0j7s_t-Zl",
        "outputId": "551036ff-d53a-4df0-ba01-13ac43ef08a9"
      },
      "execution_count": null,
      "outputs": [
        {
          "output_type": "execute_result",
          "data": {
            "text/plain": [
              "tensor(14)"
            ]
          },
          "metadata": {},
          "execution_count": 53
        }
      ]
    },
    {
      "cell_type": "code",
      "source": [
        "torch.matmul(torch.rand(3,2),torch.rand(2,3))\n",
        "\n",
        "#Matrix multiplication rules - Inner dimensions match , result is the outer dimension"
      ],
      "metadata": {
        "colab": {
          "base_uri": "https://localhost:8080/"
        },
        "id": "qgi8ZGsKu1ft",
        "outputId": "efa6744e-f634-46de-eca6-f41918f82ed3"
      },
      "execution_count": null,
      "outputs": [
        {
          "output_type": "execute_result",
          "data": {
            "text/plain": [
              "tensor([[0.6199, 0.6723, 0.6093],\n",
              "        [0.4771, 0.9395, 0.7847],\n",
              "        [0.3637, 0.7140, 0.5965]])"
            ]
          },
          "metadata": {},
          "execution_count": 54
        }
      ]
    },
    {
      "cell_type": "code",
      "source": [
        "Tensor_A = torch.rand(3,2)\n",
        "Tensor_B = torch.rand(3,2)"
      ],
      "metadata": {
        "id": "FknucWWfvtoM"
      },
      "execution_count": null,
      "outputs": []
    },
    {
      "cell_type": "code",
      "source": [
        "torch.matmul(Tensor_A,Tensor_B)"
      ],
      "metadata": {
        "colab": {
          "base_uri": "https://localhost:8080/",
          "height": 169
        },
        "id": "nueKsf2LwEie",
        "outputId": "4548b350-4f31-45d7-828f-96c2e1a17fb3"
      },
      "execution_count": null,
      "outputs": [
        {
          "output_type": "error",
          "ename": "RuntimeError",
          "evalue": "ignored",
          "traceback": [
            "\u001b[0;31m---------------------------------------------------------------------------\u001b[0m",
            "\u001b[0;31mRuntimeError\u001b[0m                              Traceback (most recent call last)",
            "\u001b[0;32m<ipython-input-58-17da74fa97c6>\u001b[0m in \u001b[0;36m<module>\u001b[0;34m\u001b[0m\n\u001b[0;32m----> 1\u001b[0;31m \u001b[0mtorch\u001b[0m\u001b[0;34m.\u001b[0m\u001b[0mmatmul\u001b[0m\u001b[0;34m(\u001b[0m\u001b[0mTensor_A\u001b[0m\u001b[0;34m,\u001b[0m\u001b[0mTensor_B\u001b[0m\u001b[0;34m)\u001b[0m\u001b[0;34m\u001b[0m\u001b[0;34m\u001b[0m\u001b[0m\n\u001b[0m",
            "\u001b[0;31mRuntimeError\u001b[0m: mat1 and mat2 shapes cannot be multiplied (3x2 and 3x2)"
          ]
        }
      ]
    },
    {
      "cell_type": "code",
      "source": [
        "torch.matmul(Tensor_A,Tensor_B.T) # transpose to match the dimension using reshaping"
      ],
      "metadata": {
        "colab": {
          "base_uri": "https://localhost:8080/"
        },
        "id": "QmS7nuofxRCk",
        "outputId": "fc5824d4-25b2-4b6b-c2bd-b11ea24483cc"
      },
      "execution_count": null,
      "outputs": [
        {
          "output_type": "execute_result",
          "data": {
            "text/plain": [
              "tensor([[0.2957, 0.5822, 1.0903],\n",
              "        [0.1257, 0.2236, 0.4693],\n",
              "        [0.2189, 0.3924, 0.8165]])"
            ]
          },
          "metadata": {},
          "execution_count": 59
        }
      ]
    },
    {
      "cell_type": "code",
      "source": [],
      "metadata": {
        "id": "e9F3Fl7OxXP-"
      },
      "execution_count": null,
      "outputs": []
    }
  ]
}