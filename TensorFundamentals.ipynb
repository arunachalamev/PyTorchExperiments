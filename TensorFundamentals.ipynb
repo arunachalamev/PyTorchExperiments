{
  "nbformat": 4,
  "nbformat_minor": 0,
  "metadata": {
    "colab": {
      "provenance": [],
      "authorship_tag": "ABX9TyOChhpkF52HdhQvAhaLTpL7",
      "include_colab_link": true
    },
    "kernelspec": {
      "name": "python3",
      "display_name": "Python 3"
    },
    "language_info": {
      "name": "python"
    }
  },
  "cells": [
    {
      "cell_type": "markdown",
      "metadata": {
        "id": "view-in-github",
        "colab_type": "text"
      },
      "source": [
        "<a href=\"https://colab.research.google.com/github/arunachalamev/PyTorchExperiments/blob/main/TensorFundamentals.ipynb\" target=\"_parent\"><img src=\"https://colab.research.google.com/assets/colab-badge.svg\" alt=\"Open In Colab\"/></a>"
      ]
    },
    {
      "cell_type": "code",
      "execution_count": 1,
      "metadata": {
        "id": "uIVmvbuVoAUq"
      },
      "outputs": [],
      "source": [
        "import torch"
      ]
    },
    {
      "cell_type": "code",
      "source": [
        "# print (torch.__version__)\n",
        "a = torch.tensor(3)\n",
        "b = torch.tensor([3.])\n",
        "c = torch.tensor([1,2,3])\n",
        "d = torch.tensor([[1,2,3],[3,4,5]])\n",
        "e = torch.rand(size=(10,10,3,5,4))\n",
        "g = torch.ones(size=(2,1,4), dtype=torch.int8, device = None, requires_grad=False)\n",
        "\n",
        "a\n",
        "print (a.ndim, a.shape)\n",
        "print (b.ndim, b.shape)\n",
        "print (c.ndim,c.shape)\n",
        "print (d.ndim,d.shape)\n",
        "print (e.ndim,e.shape)\n",
        "print (g.ndim, g.shape)\n",
        "g+10\n",
        "\n",
        "\n",
        "# Common errors - Datatype, shape and device "
      ],
      "metadata": {
        "colab": {
          "base_uri": "https://localhost:8080/"
        },
        "id": "r0iKRjEuoJWX",
        "outputId": "fd203e0e-9976-4567-f21c-fa4881a4a43b"
      },
      "execution_count": 32,
      "outputs": [
        {
          "output_type": "stream",
          "name": "stdout",
          "text": [
            "0 torch.Size([])\n",
            "1 torch.Size([1])\n",
            "1 torch.Size([3])\n",
            "2 torch.Size([2, 3])\n",
            "5 torch.Size([10, 10, 3, 5, 4])\n",
            "3 torch.Size([2, 1, 4])\n"
          ]
        },
        {
          "output_type": "execute_result",
          "data": {
            "text/plain": [
              "tensor([[[11, 11, 11, 11]],\n",
              "\n",
              "        [[11, 11, 11, 11]]], dtype=torch.int8)"
            ]
          },
          "metadata": {},
          "execution_count": 32
        }
      ]
    },
    {
      "cell_type": "code",
      "source": [
        "# Matris Multiplication\n",
        "# Element wise and Matrix multiplication ( dot product)\n",
        "\n",
        "temp = torch.tensor([1,2,3])\n",
        "# Elementwise multiplication\n",
        "temp * temp\n",
        "print (temp.mul(temp))\n",
        "\n",
        "# Matrix Multiplication\n",
        "print (temp.matmul(temp)) # dot product\n",
        "print (torch.matmul(temp,temp))"
      ],
      "metadata": {
        "colab": {
          "base_uri": "https://localhost:8080/"
        },
        "id": "jE2ZoI1TrmT0",
        "outputId": "4e09f200-59bc-43c7-c61a-d350236db058"
      },
      "execution_count": 42,
      "outputs": [
        {
          "output_type": "stream",
          "name": "stdout",
          "text": [
            "tensor([1, 4, 9])\n",
            "tensor(14)\n",
            "tensor(14)\n"
          ]
        }
      ]
    },
    {
      "cell_type": "code",
      "source": [
        "%%time\n",
        "value = 0\n",
        "for i in range(len(temp)):\n",
        "  value += temp[i]*temp[i]\n",
        "print (value)"
      ],
      "metadata": {
        "colab": {
          "base_uri": "https://localhost:8080/"
        },
        "id": "z_6KmZEjs7hy",
        "outputId": "6cdc55ee-6214-441a-8302-32a6e5495205"
      },
      "execution_count": 40,
      "outputs": [
        {
          "output_type": "stream",
          "name": "stdout",
          "text": [
            "tensor(14)\n",
            "CPU times: user 2.85 ms, sys: 51 µs, total: 2.9 ms\n",
            "Wall time: 3.03 ms\n"
          ]
        }
      ]
    },
    {
      "cell_type": "code",
      "source": [
        "%%time\n",
        "# print (temp.matmul(temp))\n",
        "torch.matmul(temp,temp)\n",
        "# print (temp)"
      ],
      "metadata": {
        "colab": {
          "base_uri": "https://localhost:8080/"
        },
        "id": "kE9U06eft6dK",
        "outputId": "475e9791-5ef4-4187-a648-69cd52a1c290"
      },
      "execution_count": 52,
      "outputs": [
        {
          "output_type": "stream",
          "name": "stdout",
          "text": [
            "CPU times: user 281 µs, sys: 887 µs, total: 1.17 ms\n",
            "Wall time: 1.11 ms\n"
          ]
        },
        {
          "output_type": "execute_result",
          "data": {
            "text/plain": [
              "tensor(14)"
            ]
          },
          "metadata": {},
          "execution_count": 52
        }
      ]
    },
    {
      "cell_type": "code",
      "source": [
        "temp @ temp # similar to matmul. Prefer matmul"
      ],
      "metadata": {
        "colab": {
          "base_uri": "https://localhost:8080/"
        },
        "id": "78V0j7s_t-Zl",
        "outputId": "551036ff-d53a-4df0-ba01-13ac43ef08a9"
      },
      "execution_count": 53,
      "outputs": [
        {
          "output_type": "execute_result",
          "data": {
            "text/plain": [
              "tensor(14)"
            ]
          },
          "metadata": {},
          "execution_count": 53
        }
      ]
    },
    {
      "cell_type": "code",
      "source": [
        "torch.matmul(torch.rand(3,2),torch.rand(2,3))\n",
        "\n",
        "#Matrix multiplication rules - Inner dimensions match , result is the outer dimension"
      ],
      "metadata": {
        "colab": {
          "base_uri": "https://localhost:8080/"
        },
        "id": "qgi8ZGsKu1ft",
        "outputId": "efa6744e-f634-46de-eca6-f41918f82ed3"
      },
      "execution_count": 54,
      "outputs": [
        {
          "output_type": "execute_result",
          "data": {
            "text/plain": [
              "tensor([[0.6199, 0.6723, 0.6093],\n",
              "        [0.4771, 0.9395, 0.7847],\n",
              "        [0.3637, 0.7140, 0.5965]])"
            ]
          },
          "metadata": {},
          "execution_count": 54
        }
      ]
    },
    {
      "cell_type": "code",
      "source": [
        "Tensor_A = torch.rand(3,2)\n",
        "Tensor_B = torch.rand(3,2)"
      ],
      "metadata": {
        "id": "FknucWWfvtoM"
      },
      "execution_count": 57,
      "outputs": []
    },
    {
      "cell_type": "code",
      "source": [
        "torch.matmul(Tensor_A,Tensor_B)"
      ],
      "metadata": {
        "colab": {
          "base_uri": "https://localhost:8080/",
          "height": 169
        },
        "id": "nueKsf2LwEie",
        "outputId": "4548b350-4f31-45d7-828f-96c2e1a17fb3"
      },
      "execution_count": 58,
      "outputs": [
        {
          "output_type": "error",
          "ename": "RuntimeError",
          "evalue": "ignored",
          "traceback": [
            "\u001b[0;31m---------------------------------------------------------------------------\u001b[0m",
            "\u001b[0;31mRuntimeError\u001b[0m                              Traceback (most recent call last)",
            "\u001b[0;32m<ipython-input-58-17da74fa97c6>\u001b[0m in \u001b[0;36m<module>\u001b[0;34m\u001b[0m\n\u001b[0;32m----> 1\u001b[0;31m \u001b[0mtorch\u001b[0m\u001b[0;34m.\u001b[0m\u001b[0mmatmul\u001b[0m\u001b[0;34m(\u001b[0m\u001b[0mTensor_A\u001b[0m\u001b[0;34m,\u001b[0m\u001b[0mTensor_B\u001b[0m\u001b[0;34m)\u001b[0m\u001b[0;34m\u001b[0m\u001b[0;34m\u001b[0m\u001b[0m\n\u001b[0m",
            "\u001b[0;31mRuntimeError\u001b[0m: mat1 and mat2 shapes cannot be multiplied (3x2 and 3x2)"
          ]
        }
      ]
    },
    {
      "cell_type": "code",
      "source": [
        "torch.matmul(Tensor_A,Tensor_B.T) # transpose to match the dimension using reshaping"
      ],
      "metadata": {
        "colab": {
          "base_uri": "https://localhost:8080/"
        },
        "id": "QmS7nuofxRCk",
        "outputId": "fc5824d4-25b2-4b6b-c2bd-b11ea24483cc"
      },
      "execution_count": 59,
      "outputs": [
        {
          "output_type": "execute_result",
          "data": {
            "text/plain": [
              "tensor([[0.2957, 0.5822, 1.0903],\n",
              "        [0.1257, 0.2236, 0.4693],\n",
              "        [0.2189, 0.3924, 0.8165]])"
            ]
          },
          "metadata": {},
          "execution_count": 59
        }
      ]
    },
    {
      "cell_type": "code",
      "source": [],
      "metadata": {
        "id": "e9F3Fl7OxXP-"
      },
      "execution_count": null,
      "outputs": []
    }
  ]
}